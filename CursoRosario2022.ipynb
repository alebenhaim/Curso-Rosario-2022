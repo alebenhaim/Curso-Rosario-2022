{
 "cells": [
  {
   "cell_type": "markdown",
   "id": "2af92557",
   "metadata": {},
   "source": [
    "# Determinación de reactividad\n",
    "\n",
    "## Reactividad en función del período\n",
    "\n",
    "Dado que luego de transcurrido el tiempo del transitorio el flujo evoluciona con una única raíz que caracteriza el período asintótico es útil notar la relación entre el período y la reactividad que se obtiene de usar que las raices son solución de la ecuación \\textit{in-hour} y que por lo tanto deben satisfacer\n",
    "\n",
    "\\begin{equation}\n",
    "\\$=\\frac{\\Lambda^*}{T}+\\sum_{i=1}^{6}\\frac{b_i}{1+\\lambda_iT}\n",
    "\\end{equation} \n",
    "\n",
    "Esta relación es muy útil experimentalmente ya que estando en la región asintótica se puede determinar el período y a partir de este determinar la reactividad.\n",
    "\n",
    "\n",
    "## Método del rod-drop \n",
    "\n",
    "La solución de la densidad de flujo ante un salto en reactividad, considerando un grupo de neutrones retardados viene dada por\n",
    "\n",
    "\\begin{equation}\n",
    "\\frac{n(t)}{n_0}=-\\frac{\\beta}{\\rho-\\beta}e^{\\frac{-\\lambda\\rho}{(\\rho-\\beta)}t}+\\frac{\\rho}{\\rho-\\beta}e^{\\frac{\\rho-\\beta}{\\Lambda}t}\n",
    "\\end{equation}\n",
    "\n",
    "Analizaremos la aproximación de salto instanténo que permitirá determinar experimentalmente el cambio en reactividad insertada con el método del Rod-drop.\n",
    "\n",
    "Las aproximaciones que se asumen son\n",
    "\n",
    "* Salto instantáneo: Asume que el término instantáneo decae muy rápido\n",
    "\t\\begin{equation}\n",
    "\t\\frac{n(t)}{n_0}\\approx-\\frac{1}{$-1}e^{-\\frac{\\lambda$}{$-1}t}\n",
    "\t\\end{equation}\n",
    "\t\n",
    "* Fuente retardada: Presume que el término retardado permanece constante.\n",
    "\t\\begin{equation}\n",
    "\t\\frac{n(t)}{n_0}\\approx-\\frac{1}{$-1}+\\frac{$}{$-1}e^{\\frac{$-1}{\\Lambda^{*}}t}\n",
    "\t\\end{equation}\n",
    "\n",
    "\n",
    "El método del rod-drop asume que el termino de los neutrones retardados no cambia y asuminos que el término instantáneo ya se hizo cero, luego para un valor de flujo inmediato al cambio en reactividad ($n_p$) debe cumplirse\n",
    "\n",
    "\\begin{equation}\n",
    "\\frac{n_p}{n_0}=-\\frac{1}{$-1}\n",
    "\\end{equation}\n",
    "por lo tanto de esta expresión y determinando experimentalmente el nivel de flujo previo al salto y su inmediato valor posterior podemos expresar la reactividad, en dolares, como\n",
    "\n",
    "\\begin{equation}\n",
    "\\$=1-\\frac{n_0}{n_p}\n",
    "\\end{equation}\n",
    "\n",
    "\n",
    "## Reactímetro\n",
    "\n",
    "Se resuelve de forma numérica la cinética puntual y a partir de los datos provenientes de los detectores neutrónicos que proporocionan una señal proporcional a la densidad neutrónica se estima el valor de reactividad.\n"
   ]
  },
  {
   "cell_type": "markdown",
   "id": "8901c021",
   "metadata": {},
   "source": [
    "## Análisis de datos experimentales\n",
    "\n",
    "Un reactor experimental es controlado por cuatro barras de control y se determina que la configuración de crítico es $BC_1=BC_2=BC_4=100\\%;BC_3=XX\\%$.\n",
    "\n",
    "A continuación se presenta una tabla de calibración de la $BC_3$ mediante el método de compensación\n",
    "\n",
    "\n",
    "$\\color{red}{\\text{ACA VA TABLA SEMI-COMPLETA}}$\n",
    "\n",
    "Como puede observar hay un paso que resta completar. Para ello usted cuenta con los datos correspondientes a dicho paso y en este apartado tendrá la oportunidad de estimar el valor en reactividad usando el método del período:\n"
   ]
  },
  {
   "cell_type": "raw",
   "id": "daaec5bb",
   "metadata": {},
   "source": [
    "En este punto usted está en condiciones de estimar la reactividad de exceso en este reactor\n"
   ]
  },
  {
   "cell_type": "markdown",
   "id": "eb0a09c8",
   "metadata": {},
   "source": [
    "## Reactividad de apagado\n",
    "\n",
    "Partiendo de la configuración de crítico de este reactor se produjo un SCRAM. En el archivo $\\color{red}{\\text{pirulo}}$ usted tiene la señal proveniente de uno de los detectores durante dicha experiencia. "
   ]
  },
  {
   "cell_type": "code",
   "execution_count": null,
   "id": "d5aa2a24",
   "metadata": {},
   "outputs": [],
   "source": [
    "Finalmente usted está en condiciones de evaluar el FSR"
   ]
  }
 ],
 "metadata": {
  "kernelspec": {
   "display_name": "Python 3 (ipykernel)",
   "language": "python",
   "name": "python3"
  },
  "language_info": {
   "codemirror_mode": {
    "name": "ipython",
    "version": 3
   },
   "file_extension": ".py",
   "mimetype": "text/x-python",
   "name": "python",
   "nbconvert_exporter": "python",
   "pygments_lexer": "ipython3",
   "version": "3.7.11"
  }
 },
 "nbformat": 4,
 "nbformat_minor": 5
}
